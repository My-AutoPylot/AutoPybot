{
 "cells": [
  {
   "cell_type": "code",
   "execution_count": 1,
   "metadata": {},
   "outputs": [
    {
     "ename": "ValueError",
     "evalue": "Setting a random_state has no effect since shuffle is False. You should leave random_state to its default (None), or set shuffle=True.",
     "output_type": "error",
     "traceback": [
      "\u001b[1;31m---------------------------------------------------------------------------\u001b[0m",
      "\u001b[1;31mValueError\u001b[0m                                Traceback (most recent call last)",
      "Cell \u001b[1;32mIn [1], line 80\u001b[0m\n\u001b[0;32m     77\u001b[0m     results \u001b[39m=\u001b[39m model_selection\u001b[39m.\u001b[39mcross_val_score(model, X, Y, cv\u001b[39m=\u001b[39mkfold)\n\u001b[0;32m     78\u001b[0m     \u001b[39mreturn\u001b[39;00m results\u001b[39m.\u001b[39mmean()\n\u001b[1;32m---> 80\u001b[0m spotcheck_logistic_regression(dataframe)\n",
      "Cell \u001b[1;32mIn [1], line 72\u001b[0m, in \u001b[0;36mspotcheck_logistic_regression\u001b[1;34m(df_with_necessary_cols_and_class_at_end)\u001b[0m\n\u001b[0;32m     69\u001b[0m Y \u001b[39m=\u001b[39m array[:,\u001b[39m-\u001b[39m\u001b[39m1\u001b[39m]\n\u001b[0;32m     71\u001b[0m seed \u001b[39m=\u001b[39m \u001b[39m7\u001b[39m\n\u001b[1;32m---> 72\u001b[0m kfold \u001b[39m=\u001b[39m model_selection\u001b[39m.\u001b[39;49mKFold(n_splits\u001b[39m=\u001b[39;49m\u001b[39m10\u001b[39;49m, random_state\u001b[39m=\u001b[39;49mseed)\n\u001b[0;32m     74\u001b[0m \u001b[39m# Code section\u001b[39;00m\n\u001b[0;32m     75\u001b[0m model \u001b[39m=\u001b[39m LogisticRegression()\n",
      "File \u001b[1;32mc:\\Users\\mrmay\\AppData\\Local\\pypoetry\\Cache\\virtualenvs\\my-autopybot-ixQ8qYcm-py3.10\\lib\\site-packages\\sklearn\\model_selection\\_split.py:435\u001b[0m, in \u001b[0;36mKFold.__init__\u001b[1;34m(self, n_splits, shuffle, random_state)\u001b[0m\n\u001b[0;32m    434\u001b[0m \u001b[39mdef\u001b[39;00m \u001b[39m__init__\u001b[39m(\u001b[39mself\u001b[39m, n_splits\u001b[39m=\u001b[39m\u001b[39m5\u001b[39m, \u001b[39m*\u001b[39m, shuffle\u001b[39m=\u001b[39m\u001b[39mFalse\u001b[39;00m, random_state\u001b[39m=\u001b[39m\u001b[39mNone\u001b[39;00m):\n\u001b[1;32m--> 435\u001b[0m     \u001b[39msuper\u001b[39;49m()\u001b[39m.\u001b[39;49m\u001b[39m__init__\u001b[39;49m(n_splits\u001b[39m=\u001b[39;49mn_splits, shuffle\u001b[39m=\u001b[39;49mshuffle, random_state\u001b[39m=\u001b[39;49mrandom_state)\n",
      "File \u001b[1;32mc:\\Users\\mrmay\\AppData\\Local\\pypoetry\\Cache\\virtualenvs\\my-autopybot-ixQ8qYcm-py3.10\\lib\\site-packages\\sklearn\\model_selection\\_split.py:296\u001b[0m, in \u001b[0;36m_BaseKFold.__init__\u001b[1;34m(self, n_splits, shuffle, random_state)\u001b[0m\n\u001b[0;32m    293\u001b[0m     \u001b[39mraise\u001b[39;00m \u001b[39mTypeError\u001b[39;00m(\u001b[39m\"\u001b[39m\u001b[39mshuffle must be True or False; got \u001b[39m\u001b[39m{0}\u001b[39;00m\u001b[39m\"\u001b[39m\u001b[39m.\u001b[39mformat(shuffle))\n\u001b[0;32m    295\u001b[0m \u001b[39mif\u001b[39;00m \u001b[39mnot\u001b[39;00m shuffle \u001b[39mand\u001b[39;00m random_state \u001b[39mis\u001b[39;00m \u001b[39mnot\u001b[39;00m \u001b[39mNone\u001b[39;00m:  \u001b[39m# None is the default\u001b[39;00m\n\u001b[1;32m--> 296\u001b[0m     \u001b[39mraise\u001b[39;00m \u001b[39mValueError\u001b[39;00m(\n\u001b[0;32m    297\u001b[0m         \u001b[39m\"\u001b[39m\u001b[39mSetting a random_state has no effect since shuffle is \u001b[39m\u001b[39m\"\u001b[39m\n\u001b[0;32m    298\u001b[0m         \u001b[39m\"\u001b[39m\u001b[39mFalse. You should leave \u001b[39m\u001b[39m\"\u001b[39m\n\u001b[0;32m    299\u001b[0m         \u001b[39m\"\u001b[39m\u001b[39mrandom_state to its default (None), or set shuffle=True.\u001b[39m\u001b[39m\"\u001b[39m,\n\u001b[0;32m    300\u001b[0m     )\n\u001b[0;32m    302\u001b[0m \u001b[39mself\u001b[39m\u001b[39m.\u001b[39mn_splits \u001b[39m=\u001b[39m n_splits\n\u001b[0;32m    303\u001b[0m \u001b[39mself\u001b[39m\u001b[39m.\u001b[39mshuffle \u001b[39m=\u001b[39m shuffle\n",
      "\u001b[1;31mValueError\u001b[0m: Setting a random_state has no effect since shuffle is False. You should leave random_state to its default (None), or set shuffle=True."
     ]
    }
   ],
   "source": [
    "# https://machinelearningmastery.com/spot-check-classification-machine-learning-algorithms-python-scikit-learn/\n",
    "\n",
    "# def excel_to_colored_html_1(input_excel_path : Union[str, WindowsPath], sheet_name : str, output_folder_path : Union[str, WindowsPath]) -> None:\n",
    "#     \"\"\"\n",
    "#     Description: Converts given Excel to HTML preserving the Excel format and saves in same folder as .html\n",
    "\n",
    "#     Parameters:\n",
    "#     input_excel_path (Union[str, WindowsPath]): Input Excel path\n",
    "#     sheet_name (str): Sheet name\n",
    "#     output_folder_path (Union[str, WindowsPath]): Output folder path\n",
    "\n",
    "#     Returns:\n",
    "#     None\n",
    "\n",
    "#     Example:\n",
    "    \n",
    "#     \"\"\"\n",
    "#     # Import section\n",
    "#     from pathlib import Path\n",
    "#     from xlsx2html import xlsx2html\n",
    "#     import datetime\n",
    "\n",
    "#     # Code section\n",
    "#     output_filename = os.path.join(output_folder_path, str(Path(input_excel_path).stem)+'_'+str(\n",
    "#         datetime.datetime.now().strftime(\"%Y%m%d_%H%M%S\")) + \".html\")\n",
    "    \n",
    "#     xlsx2html(input_excel_path, output_filename, sheet=sheet_name)\n",
    "\n",
    "# import pandas\n",
    "# from sklearn import model_selection\n",
    "# from sklearn.linear_model import LogisticRegression\n",
    "# url = \"https://raw.githubusercontent.com/jbrownlee/Datasets/master/pima-indians-diabetes.data.csv\"\n",
    "# names = ['preg', 'plas', 'pres', 'skin', 'test', 'mass', 'pedi', 'age', 'class']\n",
    "# dataframe = pandas.read_csv(url, names=names)\n",
    "# array = dataframe.values\n",
    "# X = array[:,0:8]\n",
    "# Y = array[:,8]\n",
    "# seed = 7\n",
    "# kfold = model_selection.KFold(n_splits=10, random_state=seed)\n",
    "# model = LogisticRegression()\n",
    "# results = model_selection.cross_val_score(model, X, Y, cv=kfold)\n",
    "# print(results.mean())\n",
    "\n",
    "import pandas as pd\n",
    "\n",
    "url = \"https://raw.githubusercontent.com/jbrownlee/Datasets/master/pima-indians-diabetes.data.csv\"\n",
    "names = ['preg', 'plas', 'pres', 'skin', 'test', 'mass', 'pedi', 'age', 'class']\n",
    "dataframe = pd.read_csv(url, names=names)\n",
    "\n",
    "# Logistic Regression Classification\n",
    "def spotcheck_logistic_regression(df_with_necessary_cols_and_class_at_end : pd.DataFrame) -> float:\n",
    "    \"\"\"\n",
    "    Description: Spotcheck Logistic Regression Classification\n",
    "\n",
    "    Parameters:\n",
    "    scoring (str, optional): Scoring method. Defaults to 'accuracy'.\n",
    "    cv (int, optional): Cross validation. Defaults to 5.\n",
    "\n",
    "    Returns:\n",
    "    [type]: [description]\n",
    "    \"\"\"\n",
    "    # Import section\n",
    "    from sklearn import model_selection\n",
    "    from sklearn.linear_model import LogisticRegression\n",
    "    from sklearn.model_selection import cross_val_score\n",
    "\n",
    "    array = df_with_necessary_cols_and_class_at_end.values\n",
    "    X = array[:,0:-1]\n",
    "    Y = array[:,-1]\n",
    "\n",
    "    seed = 7\n",
    "    kfold = model_selection.KFold(n_splits=10, random_state=seed, shuffle=True)\n",
    "\n",
    "    # Code section\n",
    "    model = LogisticRegression()\n",
    "    \n",
    "    results = model_selection.cross_val_score(model, X, Y, cv=kfold)\n",
    "    return results.mean()\n",
    "\n",
    "spotcheck_logistic_regression(dataframe)"
   ]
  }
 ],
 "metadata": {
  "kernelspec": {
   "display_name": "Python 3.10.7 ('my-autopybot-ixQ8qYcm-py3.10')",
   "language": "python",
   "name": "python3"
  },
  "language_info": {
   "codemirror_mode": {
    "name": "ipython",
    "version": 3
   },
   "file_extension": ".py",
   "mimetype": "text/x-python",
   "name": "python",
   "nbconvert_exporter": "python",
   "pygments_lexer": "ipython3",
   "version": "3.10.7"
  },
  "orig_nbformat": 4,
  "vscode": {
   "interpreter": {
    "hash": "6578dd0914c74309d3dd06ee2782a87c0ce63e419a01b8e8a145bf9ee71dbebc"
   }
  }
 },
 "nbformat": 4,
 "nbformat_minor": 2
}
