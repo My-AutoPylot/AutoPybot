{
 "cells": [
  {
   "cell_type": "code",
   "execution_count": 1,
   "metadata": {},
   "outputs": [
    {
     "name": "stderr",
     "output_type": "stream",
     "text": [
      "c:\\Users\\mrmay\\AppData\\Local\\pypoetry\\Cache\\virtualenvs\\my-autopybot-ixQ8qYcm-py3.10\\lib\\site-packages\\tqdm\\auto.py:22: TqdmWarning: IProgress not found. Please update jupyter and ipywidgets. See https://ipywidgets.readthedocs.io/en/stable/user_install.html\n",
      "  from .autonotebook import tqdm as notebook_tqdm\n",
      "c:\\Users\\mrmay\\AppData\\Local\\pypoetry\\Cache\\virtualenvs\\my-autopybot-ixQ8qYcm-py3.10\\lib\\site-packages\\weasyprint\\text\\fonts.py:60: UserWarning: FontConfig cannot load default config file. Expect ugly output.\n",
      "  warn('FontConfig cannot load default config file. Expect ugly output.')\n",
      "DEBUG:tensorflow:Layer lstm will use cuDNN kernels when running on GPU.\n",
      "DEBUG:tensorflow:Layer lstm will use cuDNN kernels when running on GPU.\n",
      "DEBUG:tensorflow:Layer lstm will use cuDNN kernels when running on GPU.\n",
      "DEBUG:tensorflow:Layer lstm_1 will use cuDNN kernels when running on GPU.\n",
      "DEBUG:tensorflow:Layer lstm_1 will use cuDNN kernels when running on GPU.\n",
      "DEBUG:tensorflow:Layer lstm_1 will use cuDNN kernels when running on GPU.\n"
     ]
    }
   ],
   "source": [
    "from doctr.models import ocr_predictor\n",
    "\n",
    "model = ocr_predictor(det_arch='db_resnet50', reco_arch='crnn_vgg16_bn', pretrained=True)"
   ]
  },
  {
   "cell_type": "code",
   "execution_count": 4,
   "metadata": {},
   "outputs": [
    {
     "ename": "BrokenProcessPool",
     "evalue": "A process in the process pool was terminated abruptly while the future was running or pending.",
     "output_type": "error",
     "traceback": [
      "\u001b[1;31m---------------------------------------------------------------------------\u001b[0m",
      "\u001b[1;31m_RemoteTraceback\u001b[0m                          Traceback (most recent call last)",
      "\u001b[1;31m_RemoteTraceback\u001b[0m: \n'''\nTraceback (most recent call last):\n  File \"C:\\Users\\mrmay\\AppData\\Local\\Programs\\Python\\Python310\\lib\\concurrent\\futures\\process.py\", line 387, in wait_result_broken_or_wakeup\n    result_item = result_reader.recv()\n  File \"C:\\Users\\mrmay\\AppData\\Local\\Programs\\Python\\Python310\\lib\\multiprocessing\\connection.py\", line 256, in recv\n    return _ForkingPickler.loads(buf.getbuffer())\nMemoryError\n'''",
      "\nThe above exception was the direct cause of the following exception:\n",
      "\u001b[1;31mBrokenProcessPool\u001b[0m                         Traceback (most recent call last)",
      "Cell \u001b[1;32mIn [4], line 1\u001b[0m\n\u001b[1;32m----> 1\u001b[0m pdf_doc \u001b[39m=\u001b[39m DocumentFile\u001b[39m.\u001b[39;49mfrom_pdf(\u001b[39mr\u001b[39;49m\u001b[39m\"\u001b[39;49m\u001b[39mC:\u001b[39;49m\u001b[39m\\\u001b[39;49m\u001b[39mUsers\u001b[39;49m\u001b[39m\\\u001b[39;49m\u001b[39mmrmay\u001b[39;49m\u001b[39m\\\u001b[39;49m\u001b[39mDownloads\u001b[39;49m\u001b[39m\\\u001b[39;49m\u001b[39mVersicherungsbedingungen-08-2021.pdf\u001b[39;49m\u001b[39m\"\u001b[39;49m)\n\u001b[0;32m      2\u001b[0m \u001b[39mfrom\u001b[39;00m \u001b[39mdoctr\u001b[39;00m\u001b[39m.\u001b[39;00m\u001b[39mio\u001b[39;00m \u001b[39mimport\u001b[39;00m DocumentFile\n\u001b[0;32m      3\u001b[0m \u001b[39mfrom\u001b[39;00m \u001b[39mdoctr\u001b[39;00m\u001b[39m.\u001b[39;00m\u001b[39mmodels\u001b[39;00m \u001b[39mimport\u001b[39;00m ocr_predictor\n",
      "File \u001b[1;32mc:\\Users\\mrmay\\AppData\\Local\\pypoetry\\Cache\\virtualenvs\\my-autopybot-ixQ8qYcm-py3.10\\lib\\site-packages\\doctr\\io\\reader.py:37\u001b[0m, in \u001b[0;36mDocumentFile.from_pdf\u001b[1;34m(cls, file, **kwargs)\u001b[0m\n\u001b[0;32m     23\u001b[0m \u001b[39m@classmethod\u001b[39m\n\u001b[0;32m     24\u001b[0m \u001b[39mdef\u001b[39;00m \u001b[39mfrom_pdf\u001b[39m(\u001b[39mcls\u001b[39m, file: AbstractFile, \u001b[39m*\u001b[39m\u001b[39m*\u001b[39mkwargs) \u001b[39m-\u001b[39m\u001b[39m>\u001b[39m List[np\u001b[39m.\u001b[39mndarray]:\n\u001b[0;32m     25\u001b[0m     \u001b[39m\"\"\"Read a PDF file\u001b[39;00m\n\u001b[0;32m     26\u001b[0m \n\u001b[0;32m     27\u001b[0m \u001b[39m    >>> from doctr.documents import DocumentFile\u001b[39;00m\n\u001b[1;32m   (...)\u001b[0m\n\u001b[0;32m     34\u001b[0m \u001b[39m        the list of pages decoded as numpy ndarray of shape H x W x 3\u001b[39;00m\n\u001b[0;32m     35\u001b[0m \u001b[39m    \"\"\"\u001b[39;00m\n\u001b[1;32m---> 37\u001b[0m     \u001b[39mreturn\u001b[39;00m read_pdf(file, \u001b[39m*\u001b[39m\u001b[39m*\u001b[39mkwargs)\n",
      "File \u001b[1;32mc:\\Users\\mrmay\\AppData\\Local\\pypoetry\\Cache\\virtualenvs\\my-autopybot-ixQ8qYcm-py3.10\\lib\\site-packages\\doctr\\io\\pdf.py:46\u001b[0m, in \u001b[0;36mread_pdf\u001b[1;34m(file, scale, rgb_mode, password, **kwargs)\u001b[0m\n\u001b[0;32m     44\u001b[0m pdf \u001b[39m=\u001b[39m pdfium\u001b[39m.\u001b[39mPdfDocument(file, password\u001b[39m=\u001b[39mpassword)\n\u001b[0;32m     45\u001b[0m renderer \u001b[39m=\u001b[39m pdf\u001b[39m.\u001b[39mrender_to(pdfium\u001b[39m.\u001b[39mBitmapConv\u001b[39m.\u001b[39mnumpy_ndarray, scale\u001b[39m=\u001b[39mscale, rev_byteorder\u001b[39m=\u001b[39mrgb_mode, \u001b[39m*\u001b[39m\u001b[39m*\u001b[39mkwargs)\n\u001b[1;32m---> 46\u001b[0m \u001b[39mreturn\u001b[39;00m [img \u001b[39mfor\u001b[39;00m img, _ \u001b[39min\u001b[39;00m renderer]\n",
      "File \u001b[1;32mc:\\Users\\mrmay\\AppData\\Local\\pypoetry\\Cache\\virtualenvs\\my-autopybot-ixQ8qYcm-py3.10\\lib\\site-packages\\doctr\\io\\pdf.py:46\u001b[0m, in \u001b[0;36m<listcomp>\u001b[1;34m(.0)\u001b[0m\n\u001b[0;32m     44\u001b[0m pdf \u001b[39m=\u001b[39m pdfium\u001b[39m.\u001b[39mPdfDocument(file, password\u001b[39m=\u001b[39mpassword)\n\u001b[0;32m     45\u001b[0m renderer \u001b[39m=\u001b[39m pdf\u001b[39m.\u001b[39mrender_to(pdfium\u001b[39m.\u001b[39mBitmapConv\u001b[39m.\u001b[39mnumpy_ndarray, scale\u001b[39m=\u001b[39mscale, rev_byteorder\u001b[39m=\u001b[39mrgb_mode, \u001b[39m*\u001b[39m\u001b[39m*\u001b[39mkwargs)\n\u001b[1;32m---> 46\u001b[0m \u001b[39mreturn\u001b[39;00m [img \u001b[39mfor\u001b[39;00m img, _ \u001b[39min\u001b[39;00m renderer]\n",
      "File \u001b[1;32mc:\\Users\\mrmay\\AppData\\Local\\pypoetry\\Cache\\virtualenvs\\my-autopybot-ixQ8qYcm-py3.10\\lib\\site-packages\\pypdfium2\\_helpers\\document.py:594\u001b[0m, in \u001b[0;36mPdfDocument.render_to\u001b[1;34m(self, converter, page_indices, n_processes, **kwargs)\u001b[0m\n\u001b[0;32m    592\u001b[0m i \u001b[39m=\u001b[39m \u001b[39m0\u001b[39m\n\u001b[0;32m    593\u001b[0m \u001b[39mwith\u001b[39;00m ProcessPoolExecutor(n_processes) \u001b[39mas\u001b[39;00m pool:\n\u001b[1;32m--> 594\u001b[0m     \u001b[39mfor\u001b[39;00m result, index \u001b[39min\u001b[39;00m pool\u001b[39m.\u001b[39mmap(invoke_renderer, page_indices):\n\u001b[0;32m    595\u001b[0m         \u001b[39massert\u001b[39;00m index \u001b[39m==\u001b[39m page_indices[i]\n\u001b[0;32m    596\u001b[0m         i \u001b[39m+\u001b[39m\u001b[39m=\u001b[39m \u001b[39m1\u001b[39m\n",
      "File \u001b[1;32m~\\AppData\\Local\\Programs\\Python\\Python310\\lib\\concurrent\\futures\\process.py:570\u001b[0m, in \u001b[0;36m_chain_from_iterable_of_lists\u001b[1;34m(iterable)\u001b[0m\n\u001b[0;32m    564\u001b[0m \u001b[39mdef\u001b[39;00m \u001b[39m_chain_from_iterable_of_lists\u001b[39m(iterable):\n\u001b[0;32m    565\u001b[0m     \u001b[39m\"\"\"\u001b[39;00m\n\u001b[0;32m    566\u001b[0m \u001b[39m    Specialized implementation of itertools.chain.from_iterable.\u001b[39;00m\n\u001b[0;32m    567\u001b[0m \u001b[39m    Each item in *iterable* should be a list.  This function is\u001b[39;00m\n\u001b[0;32m    568\u001b[0m \u001b[39m    careful not to keep references to yielded objects.\u001b[39;00m\n\u001b[0;32m    569\u001b[0m \u001b[39m    \"\"\"\u001b[39;00m\n\u001b[1;32m--> 570\u001b[0m     \u001b[39mfor\u001b[39;00m element \u001b[39min\u001b[39;00m iterable:\n\u001b[0;32m    571\u001b[0m         element\u001b[39m.\u001b[39mreverse()\n\u001b[0;32m    572\u001b[0m         \u001b[39mwhile\u001b[39;00m element:\n",
      "File \u001b[1;32m~\\AppData\\Local\\Programs\\Python\\Python310\\lib\\concurrent\\futures\\_base.py:621\u001b[0m, in \u001b[0;36mExecutor.map.<locals>.result_iterator\u001b[1;34m()\u001b[0m\n\u001b[0;32m    618\u001b[0m \u001b[39mwhile\u001b[39;00m fs:\n\u001b[0;32m    619\u001b[0m     \u001b[39m# Careful not to keep a reference to the popped future\u001b[39;00m\n\u001b[0;32m    620\u001b[0m     \u001b[39mif\u001b[39;00m timeout \u001b[39mis\u001b[39;00m \u001b[39mNone\u001b[39;00m:\n\u001b[1;32m--> 621\u001b[0m         \u001b[39myield\u001b[39;00m _result_or_cancel(fs\u001b[39m.\u001b[39;49mpop())\n\u001b[0;32m    622\u001b[0m     \u001b[39melse\u001b[39;00m:\n\u001b[0;32m    623\u001b[0m         \u001b[39myield\u001b[39;00m _result_or_cancel(fs\u001b[39m.\u001b[39mpop(), end_time \u001b[39m-\u001b[39m time\u001b[39m.\u001b[39mmonotonic())\n",
      "File \u001b[1;32m~\\AppData\\Local\\Programs\\Python\\Python310\\lib\\concurrent\\futures\\_base.py:319\u001b[0m, in \u001b[0;36m_result_or_cancel\u001b[1;34m(***failed resolving arguments***)\u001b[0m\n\u001b[0;32m    317\u001b[0m \u001b[39mtry\u001b[39;00m:\n\u001b[0;32m    318\u001b[0m     \u001b[39mtry\u001b[39;00m:\n\u001b[1;32m--> 319\u001b[0m         \u001b[39mreturn\u001b[39;00m fut\u001b[39m.\u001b[39;49mresult(timeout)\n\u001b[0;32m    320\u001b[0m     \u001b[39mfinally\u001b[39;00m:\n\u001b[0;32m    321\u001b[0m         fut\u001b[39m.\u001b[39mcancel()\n",
      "File \u001b[1;32m~\\AppData\\Local\\Programs\\Python\\Python310\\lib\\concurrent\\futures\\_base.py:458\u001b[0m, in \u001b[0;36mFuture.result\u001b[1;34m(self, timeout)\u001b[0m\n\u001b[0;32m    456\u001b[0m     \u001b[39mraise\u001b[39;00m CancelledError()\n\u001b[0;32m    457\u001b[0m \u001b[39melif\u001b[39;00m \u001b[39mself\u001b[39m\u001b[39m.\u001b[39m_state \u001b[39m==\u001b[39m FINISHED:\n\u001b[1;32m--> 458\u001b[0m     \u001b[39mreturn\u001b[39;00m \u001b[39mself\u001b[39;49m\u001b[39m.\u001b[39;49m__get_result()\n\u001b[0;32m    459\u001b[0m \u001b[39melse\u001b[39;00m:\n\u001b[0;32m    460\u001b[0m     \u001b[39mraise\u001b[39;00m \u001b[39mTimeoutError\u001b[39;00m()\n",
      "File \u001b[1;32m~\\AppData\\Local\\Programs\\Python\\Python310\\lib\\concurrent\\futures\\_base.py:403\u001b[0m, in \u001b[0;36mFuture.__get_result\u001b[1;34m(self)\u001b[0m\n\u001b[0;32m    401\u001b[0m \u001b[39mif\u001b[39;00m \u001b[39mself\u001b[39m\u001b[39m.\u001b[39m_exception:\n\u001b[0;32m    402\u001b[0m     \u001b[39mtry\u001b[39;00m:\n\u001b[1;32m--> 403\u001b[0m         \u001b[39mraise\u001b[39;00m \u001b[39mself\u001b[39m\u001b[39m.\u001b[39m_exception\n\u001b[0;32m    404\u001b[0m     \u001b[39mfinally\u001b[39;00m:\n\u001b[0;32m    405\u001b[0m         \u001b[39m# Break a reference cycle with the exception in self._exception\u001b[39;00m\n\u001b[0;32m    406\u001b[0m         \u001b[39mself\u001b[39m \u001b[39m=\u001b[39m \u001b[39mNone\u001b[39;00m\n",
      "\u001b[1;31mBrokenProcessPool\u001b[0m: A process in the process pool was terminated abruptly while the future was running or pending."
     ]
    }
   ],
   "source": [
    "pdf_doc = DocumentFile.from_pdf(r\"C:\\Users\\mrmay\\Downloads\\Versicherungsbedingungen-08-2021.pdf\")\n",
    "from doctr.io import DocumentFile\n",
    "from doctr.models import ocr_predictor\n",
    "\n",
    "model = ocr_predictor(pretrained=True)\n",
    "# PDF\n",
    "# Analyze\n",
    "# result = model(pdf_doc)"
   ]
  }
 ],
 "metadata": {
  "kernelspec": {
   "display_name": "Python 3.10.7 ('my-autopybot-ixQ8qYcm-py3.10')",
   "language": "python",
   "name": "python3"
  },
  "language_info": {
   "codemirror_mode": {
    "name": "ipython",
    "version": 3
   },
   "file_extension": ".py",
   "mimetype": "text/x-python",
   "name": "python",
   "nbconvert_exporter": "python",
   "pygments_lexer": "ipython3",
   "version": "3.10.7 (tags/v3.10.7:6cc6b13, Sep  5 2022, 14:08:36) [MSC v.1933 64 bit (AMD64)]"
  },
  "orig_nbformat": 4,
  "vscode": {
   "interpreter": {
    "hash": "6578dd0914c74309d3dd06ee2782a87c0ce63e419a01b8e8a145bf9ee71dbebc"
   }
  }
 },
 "nbformat": 4,
 "nbformat_minor": 2
}
